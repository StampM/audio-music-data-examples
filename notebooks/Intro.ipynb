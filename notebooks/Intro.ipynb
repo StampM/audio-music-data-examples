{
 "cells": [
  {
   "cell_type": "markdown",
   "id": "1672dd89-dd17-4675-b5b9-aa875680d70f",
   "metadata": {},
   "source": [
    "### Intro\n"
   ]
  },
  {
   "cell_type": "code",
   "execution_count": null,
   "id": "d055d882-6d99-4314-a69c-594edd68e412",
   "metadata": {},
   "outputs": [],
   "source": [
    "# get in packages\n"
   ]
  },
  {
   "cell_type": "code",
   "execution_count": null,
   "id": "442afda6-9be2-48f0-9796-4d12a4a8c7b5",
   "metadata": {},
   "outputs": [],
   "source": []
  },
  {
   "cell_type": "code",
   "execution_count": null,
   "id": "20028fa1-08c9-42dd-a20d-7797b981be75",
   "metadata": {},
   "outputs": [],
   "source": []
  }
 ],
 "metadata": {
  "kernelspec": {
   "display_name": "Python 3",
   "language": "python",
   "name": "python3"
  },
  "language_info": {
   "codemirror_mode": {
    "name": "ipython",
    "version": 3
   },
   "file_extension": ".py",
   "mimetype": "text/x-python",
   "name": "python",
   "nbconvert_exporter": "python",
   "pygments_lexer": "ipython3",
   "version": "3.8.3"
  }
 },
 "nbformat": 4,
 "nbformat_minor": 5
}
